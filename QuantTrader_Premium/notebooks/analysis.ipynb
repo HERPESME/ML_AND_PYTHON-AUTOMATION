{
 "cells": [
  {
   "cell_type": "code",
   "execution_count": null,
   "metadata": {
    "vscode": {
     "languageId": "plaintext"
    }
   },
   "outputs": [],
   "source": [
    "# In a Jupyter cell\n",
    "import pandas as pd\n",
    "import matplotlib.pyplot as plt\n",
    "\n",
    "df = pd.read_csv(\"../data/historical/AAPL.csv\", index_col=0, parse_dates=True)\n",
    "df['Close'].plot(title=\"AAPL Closing Prices\")\n",
    "plt.show()\n"
   ]
  }
 ],
 "metadata": {
  "language_info": {
   "name": "python"
  }
 },
 "nbformat": 4,
 "nbformat_minor": 2
}
